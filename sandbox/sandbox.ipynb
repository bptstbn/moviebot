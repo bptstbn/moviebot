{
 "cells": [
  {
   "cell_type": "code",
   "execution_count": 62,
   "id": "3882f2ef",
   "metadata": {},
   "outputs": [],
   "source": [
    "import pandas as pd"
   ]
  },
  {
   "cell_type": "code",
   "execution_count": 63,
   "id": "517a420d",
   "metadata": {},
   "outputs": [
    {
     "name": "stderr",
     "output_type": "stream",
     "text": [
      "C:\\Users\\Baptiste\\anaconda3\\lib\\site-packages\\IPython\\core\\interactiveshell.py:3165: DtypeWarning: Columns (4,5) have mixed types.Specify dtype option on import or set low_memory=False.\n",
      "  has_raised = await self.run_ast_nodes(code_ast.body, cell_name,\n"
     ]
    }
   ],
   "source": [
    "titles = pd.read_csv('datasets/titles.tsv', sep = '\\t')\n",
    "titles = titles.loc[titles['isAdult'] == 0]\n",
    "titles = titles.loc[titles['titleType'].isin(['movie', 'tvSeries', 'tvMovie'])]"
   ]
  },
  {
   "cell_type": "code",
   "execution_count": 64,
   "id": "f3df8bad",
   "metadata": {},
   "outputs": [],
   "source": [
    "ratings = pd.read_csv('datasets/ratings.tsv', sep = '\\t')\n",
    "ratings = ratings.loc[ratings['numVotes'] > 10000]"
   ]
  },
  {
   "cell_type": "code",
   "execution_count": 65,
   "id": "938fa61c",
   "metadata": {},
   "outputs": [],
   "source": [
    "df = pd.merge(titles, ratings, on = 'tconst')"
   ]
  },
  {
   "cell_type": "code",
   "execution_count": 66,
   "id": "fd671218",
   "metadata": {},
   "outputs": [
    {
     "data": {
      "text/html": [
       "<div>\n",
       "<style scoped>\n",
       "    .dataframe tbody tr th:only-of-type {\n",
       "        vertical-align: middle;\n",
       "    }\n",
       "\n",
       "    .dataframe tbody tr th {\n",
       "        vertical-align: top;\n",
       "    }\n",
       "\n",
       "    .dataframe thead th {\n",
       "        text-align: right;\n",
       "    }\n",
       "</style>\n",
       "<table border=\"1\" class=\"dataframe\">\n",
       "  <thead>\n",
       "    <tr style=\"text-align: right;\">\n",
       "      <th></th>\n",
       "      <th>tconst</th>\n",
       "      <th>titleType</th>\n",
       "      <th>primaryTitle</th>\n",
       "      <th>originalTitle</th>\n",
       "      <th>isAdult</th>\n",
       "      <th>startYear</th>\n",
       "      <th>endYear</th>\n",
       "      <th>runtimeMinutes</th>\n",
       "      <th>genres</th>\n",
       "      <th>averageRating</th>\n",
       "      <th>numVotes</th>\n",
       "    </tr>\n",
       "  </thead>\n",
       "  <tbody>\n",
       "    <tr>\n",
       "      <th>0</th>\n",
       "      <td>tt0004972</td>\n",
       "      <td>movie</td>\n",
       "      <td>The Birth of a Nation</td>\n",
       "      <td>The Birth of a Nation</td>\n",
       "      <td>0</td>\n",
       "      <td>1915</td>\n",
       "      <td>\\N</td>\n",
       "      <td>195</td>\n",
       "      <td>Drama,History,War</td>\n",
       "      <td>6.2</td>\n",
       "      <td>24332</td>\n",
       "    </tr>\n",
       "    <tr>\n",
       "      <th>1</th>\n",
       "      <td>tt0006864</td>\n",
       "      <td>movie</td>\n",
       "      <td>Intolerance</td>\n",
       "      <td>Intolerance: Love's Struggle Throughout the Ages</td>\n",
       "      <td>0</td>\n",
       "      <td>1916</td>\n",
       "      <td>\\N</td>\n",
       "      <td>163</td>\n",
       "      <td>Drama,History</td>\n",
       "      <td>7.7</td>\n",
       "      <td>15287</td>\n",
       "    </tr>\n",
       "    <tr>\n",
       "      <th>2</th>\n",
       "      <td>tt0009968</td>\n",
       "      <td>movie</td>\n",
       "      <td>Broken Blossoms</td>\n",
       "      <td>Broken Blossoms or The Yellow Man and the Girl</td>\n",
       "      <td>0</td>\n",
       "      <td>1919</td>\n",
       "      <td>\\N</td>\n",
       "      <td>90</td>\n",
       "      <td>Drama,Romance</td>\n",
       "      <td>7.3</td>\n",
       "      <td>10179</td>\n",
       "    </tr>\n",
       "    <tr>\n",
       "      <th>3</th>\n",
       "      <td>tt0010323</td>\n",
       "      <td>movie</td>\n",
       "      <td>The Cabinet of Dr. Caligari</td>\n",
       "      <td>Das Cabinet des Dr. Caligari</td>\n",
       "      <td>0</td>\n",
       "      <td>1920</td>\n",
       "      <td>\\N</td>\n",
       "      <td>76</td>\n",
       "      <td>Horror,Mystery,Thriller</td>\n",
       "      <td>8.0</td>\n",
       "      <td>62153</td>\n",
       "    </tr>\n",
       "    <tr>\n",
       "      <th>4</th>\n",
       "      <td>tt0012349</td>\n",
       "      <td>movie</td>\n",
       "      <td>The Kid</td>\n",
       "      <td>The Kid</td>\n",
       "      <td>0</td>\n",
       "      <td>1921</td>\n",
       "      <td>\\N</td>\n",
       "      <td>68</td>\n",
       "      <td>Comedy,Drama,Family</td>\n",
       "      <td>8.3</td>\n",
       "      <td>123778</td>\n",
       "    </tr>\n",
       "    <tr>\n",
       "      <th>...</th>\n",
       "      <td>...</td>\n",
       "      <td>...</td>\n",
       "      <td>...</td>\n",
       "      <td>...</td>\n",
       "      <td>...</td>\n",
       "      <td>...</td>\n",
       "      <td>...</td>\n",
       "      <td>...</td>\n",
       "      <td>...</td>\n",
       "      <td>...</td>\n",
       "      <td>...</td>\n",
       "    </tr>\n",
       "    <tr>\n",
       "      <th>11403</th>\n",
       "      <td>tt9879074</td>\n",
       "      <td>tvSeries</td>\n",
       "      <td>The Disappearance of Madeleine McCann</td>\n",
       "      <td>The Disappearance of Madeleine McCann</td>\n",
       "      <td>0</td>\n",
       "      <td>2019</td>\n",
       "      <td>2019</td>\n",
       "      <td>60</td>\n",
       "      <td>Crime,Documentary,Mystery</td>\n",
       "      <td>6.6</td>\n",
       "      <td>10293</td>\n",
       "    </tr>\n",
       "    <tr>\n",
       "      <th>11404</th>\n",
       "      <td>tt9893250</td>\n",
       "      <td>movie</td>\n",
       "      <td>I Care a Lot</td>\n",
       "      <td>I Care a Lot</td>\n",
       "      <td>0</td>\n",
       "      <td>2020</td>\n",
       "      <td>\\N</td>\n",
       "      <td>118</td>\n",
       "      <td>Comedy,Crime,Drama</td>\n",
       "      <td>6.3</td>\n",
       "      <td>126209</td>\n",
       "    </tr>\n",
       "    <tr>\n",
       "      <th>11405</th>\n",
       "      <td>tt9898858</td>\n",
       "      <td>movie</td>\n",
       "      <td>Coffee &amp; Kareem</td>\n",
       "      <td>Coffee &amp; Kareem</td>\n",
       "      <td>0</td>\n",
       "      <td>2020</td>\n",
       "      <td>\\N</td>\n",
       "      <td>88</td>\n",
       "      <td>Action,Comedy,Crime</td>\n",
       "      <td>5.1</td>\n",
       "      <td>13341</td>\n",
       "    </tr>\n",
       "    <tr>\n",
       "      <th>11406</th>\n",
       "      <td>tt9900092</td>\n",
       "      <td>tvSeries</td>\n",
       "      <td>Motherland: Fort Salem</td>\n",
       "      <td>Motherland: Fort Salem</td>\n",
       "      <td>0</td>\n",
       "      <td>2020</td>\n",
       "      <td>2022</td>\n",
       "      <td>42</td>\n",
       "      <td>Drama,Fantasy,Sci-Fi</td>\n",
       "      <td>7.3</td>\n",
       "      <td>13214</td>\n",
       "    </tr>\n",
       "    <tr>\n",
       "      <th>11407</th>\n",
       "      <td>tt9900782</td>\n",
       "      <td>movie</td>\n",
       "      <td>Kaithi</td>\n",
       "      <td>Kaithi</td>\n",
       "      <td>0</td>\n",
       "      <td>2019</td>\n",
       "      <td>\\N</td>\n",
       "      <td>145</td>\n",
       "      <td>Action,Crime,Thriller</td>\n",
       "      <td>8.6</td>\n",
       "      <td>21778</td>\n",
       "    </tr>\n",
       "  </tbody>\n",
       "</table>\n",
       "<p>11408 rows × 11 columns</p>\n",
       "</div>"
      ],
      "text/plain": [
       "          tconst titleType                           primaryTitle  \\\n",
       "0      tt0004972     movie                  The Birth of a Nation   \n",
       "1      tt0006864     movie                            Intolerance   \n",
       "2      tt0009968     movie                        Broken Blossoms   \n",
       "3      tt0010323     movie            The Cabinet of Dr. Caligari   \n",
       "4      tt0012349     movie                                The Kid   \n",
       "...          ...       ...                                    ...   \n",
       "11403  tt9879074  tvSeries  The Disappearance of Madeleine McCann   \n",
       "11404  tt9893250     movie                           I Care a Lot   \n",
       "11405  tt9898858     movie                        Coffee & Kareem   \n",
       "11406  tt9900092  tvSeries                 Motherland: Fort Salem   \n",
       "11407  tt9900782     movie                                 Kaithi   \n",
       "\n",
       "                                          originalTitle isAdult startYear  \\\n",
       "0                                 The Birth of a Nation       0      1915   \n",
       "1      Intolerance: Love's Struggle Throughout the Ages       0      1916   \n",
       "2        Broken Blossoms or The Yellow Man and the Girl       0      1919   \n",
       "3                          Das Cabinet des Dr. Caligari       0      1920   \n",
       "4                                               The Kid       0      1921   \n",
       "...                                                 ...     ...       ...   \n",
       "11403             The Disappearance of Madeleine McCann       0      2019   \n",
       "11404                                      I Care a Lot       0      2020   \n",
       "11405                                   Coffee & Kareem       0      2020   \n",
       "11406                            Motherland: Fort Salem       0      2020   \n",
       "11407                                            Kaithi       0      2019   \n",
       "\n",
       "      endYear runtimeMinutes                     genres  averageRating  \\\n",
       "0          \\N            195          Drama,History,War            6.2   \n",
       "1          \\N            163              Drama,History            7.7   \n",
       "2          \\N             90              Drama,Romance            7.3   \n",
       "3          \\N             76    Horror,Mystery,Thriller            8.0   \n",
       "4          \\N             68        Comedy,Drama,Family            8.3   \n",
       "...       ...            ...                        ...            ...   \n",
       "11403    2019             60  Crime,Documentary,Mystery            6.6   \n",
       "11404      \\N            118         Comedy,Crime,Drama            6.3   \n",
       "11405      \\N             88        Action,Comedy,Crime            5.1   \n",
       "11406    2022             42       Drama,Fantasy,Sci-Fi            7.3   \n",
       "11407      \\N            145      Action,Crime,Thriller            8.6   \n",
       "\n",
       "       numVotes  \n",
       "0         24332  \n",
       "1         15287  \n",
       "2         10179  \n",
       "3         62153  \n",
       "4        123778  \n",
       "...         ...  \n",
       "11403     10293  \n",
       "11404    126209  \n",
       "11405     13341  \n",
       "11406     13214  \n",
       "11407     21778  \n",
       "\n",
       "[11408 rows x 11 columns]"
      ]
     },
     "execution_count": 66,
     "metadata": {},
     "output_type": "execute_result"
    }
   ],
   "source": [
    "df"
   ]
  },
  {
   "cell_type": "code",
   "execution_count": 67,
   "id": "b2cb738d",
   "metadata": {},
   "outputs": [],
   "source": [
    "movies = [str(x).lower() for x in list(df['primaryTitle'])]"
   ]
  },
  {
   "cell_type": "code",
   "execution_count": 69,
   "id": "13fd233c",
   "metadata": {},
   "outputs": [
    {
     "data": {
      "text/plain": [
       "True"
      ]
     },
     "execution_count": 69,
     "metadata": {},
     "output_type": "execute_result"
    }
   ],
   "source": [
    "\"inception\" in movies"
   ]
  },
  {
   "cell_type": "code",
   "execution_count": 5,
   "id": "f90e3cc8",
   "metadata": {},
   "outputs": [
    {
     "data": {
      "text/plain": [
       "['short',\n",
       " 'tvPilot',\n",
       " 'movie',\n",
       " 'videoGame',\n",
       " 'video',\n",
       " 'tvSeries',\n",
       " 'tvEpisode',\n",
       " 'tvShort',\n",
       " 'tvMiniSeries',\n",
       " 'tvSpecial',\n",
       " 'tvMovie']"
      ]
     },
     "execution_count": 5,
     "metadata": {},
     "output_type": "execute_result"
    }
   ],
   "source": [
    "list(set(list(df['titleType']))) "
   ]
  },
  {
   "cell_type": "code",
   "execution_count": 30,
   "id": "69a6a9cd",
   "metadata": {},
   "outputs": [],
   "source": [
    "sentence = 'Hey there, who is the director of The Grand Budapest Hotel ?'"
   ]
  },
  {
   "cell_type": "code",
   "execution_count": 42,
   "id": "636c78cb",
   "metadata": {},
   "outputs": [],
   "source": [
    "words = sentence.lower().split(' ')"
   ]
  },
  {
   "cell_type": "code",
   "execution_count": 43,
   "id": "b9e9773c",
   "metadata": {},
   "outputs": [
    {
     "data": {
      "text/plain": [
       "['hey',\n",
       " 'there,',\n",
       " 'who',\n",
       " 'is',\n",
       " 'the',\n",
       " 'director',\n",
       " 'of',\n",
       " 'the',\n",
       " 'grand',\n",
       " 'budapest',\n",
       " 'hotel',\n",
       " '?']"
      ]
     },
     "execution_count": 43,
     "metadata": {},
     "output_type": "execute_result"
    }
   ],
   "source": [
    "words"
   ]
  },
  {
   "cell_type": "code",
   "execution_count": 33,
   "id": "13c4af27",
   "metadata": {},
   "outputs": [],
   "source": [
    "stuff = words"
   ]
  },
  {
   "cell_type": "code",
   "execution_count": 34,
   "id": "a438b91b",
   "metadata": {},
   "outputs": [],
   "source": [
    "import itertools"
   ]
  },
  {
   "cell_type": "code",
   "execution_count": 44,
   "id": "0ac6eee1",
   "metadata": {},
   "outputs": [
    {
     "name": "stdout",
     "output_type": "stream",
     "text": [
      "['Hey']\n",
      "['Hey', 'there,']\n",
      "['Hey', 'there,', 'who']\n",
      "['Hey', 'there,', 'who', 'is']\n",
      "['Hey', 'there,', 'who', 'is', 'the']\n",
      "['Hey', 'there,', 'who', 'is', 'the', 'director']\n",
      "['Hey', 'there,', 'who', 'is', 'the', 'director', 'of']\n",
      "['Hey', 'there,', 'who', 'is', 'the', 'director', 'of', 'The']\n",
      "['Hey', 'there,', 'who', 'is', 'the', 'director', 'of', 'The', 'Grand']\n",
      "['Hey', 'there,', 'who', 'is', 'the', 'director', 'of', 'The', 'Grand', 'Budapest']\n",
      "['Hey', 'there,', 'who', 'is', 'the', 'director', 'of', 'The', 'Grand', 'Budapest', 'Hotel']\n",
      "['Hey', 'there,', 'who', 'is', 'the', 'director', 'of', 'The', 'Grand', 'Budapest', 'Hotel', '?']\n",
      "['there,']\n",
      "['there,', 'who']\n",
      "['there,', 'who', 'is']\n",
      "['there,', 'who', 'is', 'the']\n",
      "['there,', 'who', 'is', 'the', 'director']\n",
      "['there,', 'who', 'is', 'the', 'director', 'of']\n",
      "['there,', 'who', 'is', 'the', 'director', 'of', 'The']\n",
      "['there,', 'who', 'is', 'the', 'director', 'of', 'The', 'Grand']\n",
      "['there,', 'who', 'is', 'the', 'director', 'of', 'The', 'Grand', 'Budapest']\n",
      "['there,', 'who', 'is', 'the', 'director', 'of', 'The', 'Grand', 'Budapest', 'Hotel']\n",
      "['there,', 'who', 'is', 'the', 'director', 'of', 'The', 'Grand', 'Budapest', 'Hotel', '?']\n",
      "['who']\n",
      "['who', 'is']\n",
      "['who', 'is', 'the']\n",
      "['who', 'is', 'the', 'director']\n",
      "['who', 'is', 'the', 'director', 'of']\n",
      "['who', 'is', 'the', 'director', 'of', 'The']\n",
      "['who', 'is', 'the', 'director', 'of', 'The', 'Grand']\n",
      "['who', 'is', 'the', 'director', 'of', 'The', 'Grand', 'Budapest']\n",
      "['who', 'is', 'the', 'director', 'of', 'The', 'Grand', 'Budapest', 'Hotel']\n",
      "['who', 'is', 'the', 'director', 'of', 'The', 'Grand', 'Budapest', 'Hotel', '?']\n",
      "['is']\n",
      "['is', 'the']\n",
      "['is', 'the', 'director']\n",
      "['is', 'the', 'director', 'of']\n",
      "['is', 'the', 'director', 'of', 'The']\n",
      "['is', 'the', 'director', 'of', 'The', 'Grand']\n",
      "['is', 'the', 'director', 'of', 'The', 'Grand', 'Budapest']\n",
      "['is', 'the', 'director', 'of', 'The', 'Grand', 'Budapest', 'Hotel']\n",
      "['is', 'the', 'director', 'of', 'The', 'Grand', 'Budapest', 'Hotel', '?']\n",
      "['the']\n",
      "['the', 'director']\n",
      "['the', 'director', 'of']\n",
      "['the', 'director', 'of', 'The']\n",
      "['the', 'director', 'of', 'The', 'Grand']\n",
      "['the', 'director', 'of', 'The', 'Grand', 'Budapest']\n",
      "['the', 'director', 'of', 'The', 'Grand', 'Budapest', 'Hotel']\n",
      "['the', 'director', 'of', 'The', 'Grand', 'Budapest', 'Hotel', '?']\n",
      "['director']\n",
      "['director', 'of']\n",
      "['director', 'of', 'The']\n",
      "['director', 'of', 'The', 'Grand']\n",
      "['director', 'of', 'The', 'Grand', 'Budapest']\n",
      "['director', 'of', 'The', 'Grand', 'Budapest', 'Hotel']\n",
      "['director', 'of', 'The', 'Grand', 'Budapest', 'Hotel', '?']\n",
      "['of']\n",
      "['of', 'The']\n",
      "['of', 'The', 'Grand']\n",
      "['of', 'The', 'Grand', 'Budapest']\n",
      "['of', 'The', 'Grand', 'Budapest', 'Hotel']\n",
      "['of', 'The', 'Grand', 'Budapest', 'Hotel', '?']\n",
      "['The']\n",
      "['The', 'Grand']\n",
      "['The', 'Grand', 'Budapest']\n",
      "['The', 'Grand', 'Budapest', 'Hotel']\n",
      "['The', 'Grand', 'Budapest', 'Hotel', '?']\n",
      "['Grand']\n",
      "['Grand', 'Budapest']\n",
      "['Grand', 'Budapest', 'Hotel']\n",
      "['Grand', 'Budapest', 'Hotel', '?']\n",
      "['Budapest']\n",
      "['Budapest', 'Hotel']\n",
      "['Budapest', 'Hotel', '?']\n",
      "['Hotel']\n",
      "['Hotel', '?']\n",
      "['?']\n"
     ]
    }
   ],
   "source": [
    "for i, j in itertools.combinations(range(len(stuff) + 1), 2):\n",
    "    print(stuff[i:j])"
   ]
  },
  {
   "cell_type": "code",
   "execution_count": 45,
   "id": "9c7e9021",
   "metadata": {},
   "outputs": [
    {
     "data": {
      "text/plain": [
       "True"
      ]
     },
     "execution_count": 45,
     "metadata": {},
     "output_type": "execute_result"
    }
   ],
   "source": [
    "'hotel' in [str(x).lower() for x in known_movies]"
   ]
  },
  {
   "cell_type": "code",
   "execution_count": 51,
   "id": "0f2a5262",
   "metadata": {},
   "outputs": [],
   "source": [
    "chains = [(\" \").join(words[i:j]) for i, j in itertools.combinations(range(len(words) + 1), 2)]"
   ]
  },
  {
   "cell_type": "code",
   "execution_count": 70,
   "id": "47151648",
   "metadata": {},
   "outputs": [
    {
     "data": {
      "text/plain": [
       "['the grand budapest hotel']"
      ]
     },
     "execution_count": 70,
     "metadata": {},
     "output_type": "execute_result"
    }
   ],
   "source": [
    "list(filter(lambda x: x in movies, chains))"
   ]
  },
  {
   "cell_type": "code",
   "execution_count": 100,
   "id": "b44afe03",
   "metadata": {},
   "outputs": [],
   "source": [
    "import Levenshtein as lev"
   ]
  },
  {
   "cell_type": "code",
   "execution_count": 90,
   "id": "498e664a",
   "metadata": {},
   "outputs": [],
   "source": [
    "def are_close(str1, str2, threshold = 0.95):\n",
    "    \"\"\"\n",
    "    Check if two strings are close according to the Levenshtein distance\n",
    "\n",
    "    str1 : string\n",
    "    str2 : string\n",
    "    threshold : float between 0 and 1, optional (default is 0.95)\n",
    "\n",
    "    Returns : boolean\n",
    "    \"\"\"\n",
    "    return lev.ratio(str1.lower(), str2.lower()) > threshold"
   ]
  },
  {
   "cell_type": "code",
   "execution_count": 95,
   "id": "4df5fb76",
   "metadata": {},
   "outputs": [],
   "source": [
    "def is_in(chain, movies):\n",
    "    for movie in movies:\n",
    "        if are_close(chain, movie):\n",
    "            return True\n",
    "    return False"
   ]
  },
  {
   "cell_type": "code",
   "execution_count": 106,
   "id": "0727e07f",
   "metadata": {},
   "outputs": [],
   "source": [
    "def extract_movie(sentence):\n",
    "    words = sentence.lower().split(' ')\n",
    "    chains = [(\" \").join(words[i:j]) for i, j in itertools.combinations(range(len(words) + 1), 2)]\n",
    "    return list(filter(lambda chain: chain in movies, chains))"
   ]
  },
  {
   "cell_type": "code",
   "execution_count": 107,
   "id": "ed81d65e",
   "metadata": {},
   "outputs": [
    {
     "data": {
      "text/plain": [
       "['the grand budapest hotel']"
      ]
     },
     "execution_count": 107,
     "metadata": {},
     "output_type": "execute_result"
    }
   ],
   "source": [
    "extract_movie('The Grand Budapest Hotel is an action film ?')"
   ]
  },
  {
   "cell_type": "code",
   "execution_count": 104,
   "id": "2a41f6a7",
   "metadata": {},
   "outputs": [],
   "source": [
    "import pickle"
   ]
  },
  {
   "cell_type": "code",
   "execution_count": 105,
   "id": "5f12459a",
   "metadata": {},
   "outputs": [],
   "source": [
    "filehandler = open('movies.pck', 'wb')\n",
    "pickle.dump(movies, filehandler)         "
   ]
  },
  {
   "cell_type": "code",
   "execution_count": 118,
   "id": "bcf60d48",
   "metadata": {},
   "outputs": [],
   "source": [
    "filehandler = open('movies.pck', 'rb')     \n",
    "movies = pickle.load(filehandler)"
   ]
  }
 ],
 "metadata": {
  "kernelspec": {
   "display_name": "Python 3",
   "language": "python",
   "name": "python3"
  },
  "language_info": {
   "codemirror_mode": {
    "name": "ipython",
    "version": 3
   },
   "file_extension": ".py",
   "mimetype": "text/x-python",
   "name": "python",
   "nbconvert_exporter": "python",
   "pygments_lexer": "ipython3",
   "version": "3.8.8"
  }
 },
 "nbformat": 4,
 "nbformat_minor": 5
}
